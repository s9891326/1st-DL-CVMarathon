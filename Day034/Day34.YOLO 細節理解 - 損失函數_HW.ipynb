{
 "nbformat": 4,
 "nbformat_minor": 0,
 "metadata": {
  "kernelspec": {
   "display_name": "Python 3",
   "language": "python",
   "name": "python3"
  },
  "language_info": {
   "codemirror_mode": {
    "name": "ipython",
    "version": 3
   },
   "file_extension": ".py",
   "mimetype": "text/x-python",
   "name": "python",
   "nbconvert_exporter": "python",
   "pygments_lexer": "ipython3",
   "version": "3.6.1"
  },
  "colab": {
   "name": "Day34.YOLO 細節理解 - 損失函數_HW.ipynb",
   "provenance": []
  },
  "pycharm": {
   "stem_cell": {
    "cell_type": "raw",
    "source": [],
    "metadata": {
     "collapsed": false
    }
   }
  }
 },
 "cells": [
  {
   "cell_type": "markdown",
   "metadata": {
    "id": "Bnmm4e85ZBf2",
    "colab_type": "text"
   },
   "source": [
    "## Day34.YOLO 細節理解 - 損失函數\n",
    "今天的課程，我們講述了\n",
    "* 損失函數是描述模型預測出來的結果和實際的差異的依據    \n",
    "* YOLO 損失函數的設計包含物件位置的定位與物件類別辨識    \n",
    "* YOLO損失函數透過超參數設定模型有不同的辨識能力    \n",
    "\n"
   ]
  },
  {
   "cell_type": "markdown",
   "metadata": {
    "id": "exUoZwe5ZBf9",
    "colab_type": "text"
   },
   "source": [
    "### 作業\n",
    "仔細觀察，bbox 寬高計算損失方式和bbox中心計算損失方式有哪邊不一樣嗎? 為什麼要有不同的設計?"
   ]
  },
  {
   "cell_type": "markdown",
   "source": [
    "![title](HW_answer.png)\n",
    "\n"
   ],
   "metadata": {
    "collapsed": false,
    "pycharm": {
     "name": "#%% md\n"
    }
   }
  },
  {
   "cell_type": "code",
   "metadata": {
    "id": "8rmQogtPZBf_",
    "colab_type": "code",
    "colab": {
     "base_uri": "https://localhost:8080/",
     "height": 34
    },
    "outputId": "3259b864-defa-4325-cf44-b0a269d6f1dc",
    "executionInfo": {
     "status": "ok",
     "timestamp": 1578021189565,
     "user_tz": -480,
     "elapsed": 2077,
     "user": {
      "displayName": "Mora chen",
      "photoUrl": "https://lh3.googleusercontent.com/a-/AAuE7mB40f7sDArbZ5_DYq02nNcnLD0Ryaf7AhsASSQeLQ=s64",
      "userId": "03171203089166907199"
     }
    }
   },
   "source": [
    "'''\n",
    "bbox 寬高計算損失方式 -> 將實際寬高開根號後 - 預測寬高開根號\n",
    "(根號(a) - 根號(a'))^2 + (根號(b) - 根號(b'))^2\n",
    "\n",
    "bbox 中心計算損失方式 -> 將實際座標x,y - 預測座標x,y 後 平方相加\n",
    "(a - a')^2 + (b - b')^2\n",
    "\n",
    "因為大的預測框容易產生較大的誤差，如果寬高的損失設計跟中心的損失設計一樣的話，會造成大物體辨識的能力較差，因此透過開根號的方式修正\n",
    "-> 使用bbox寬高的平方根代替寬高，使小bbox發生偏移時的損失比大bbox要大\n",
    "'''"
   ],
   "execution_count": 1,
   "outputs": [
    {
     "output_type": "execute_result",
     "data": {
      "text/plain": [
       "'\\n你的答案\\n'"
      ]
     },
     "metadata": {
      "tags": []
     },
     "execution_count": 1
    }
   ]
  }
 ]
}