{
 "cells": [
  {
   "cell_type": "code",
   "execution_count": 8,
   "metadata": {
    "pycharm": {
     "is_executing": false,
     "name": "#%%\n"
    }
   },
   "outputs": [
    {
     "name": "stdout",
     "text": [
      "[[[125 137 226]\n  [125 137 226]\n  [133 137 223]\n  ...\n  [122 148 230]\n  [110 130 221]\n  [ 90  99 200]]\n\n [[125 137 226]\n  [125 137 226]\n  [133 137 223]\n  ...\n  [122 148 230]\n  [110 130 221]\n  [ 90  99 200]]\n\n [[125 137 226]\n  [125 137 226]\n  [133 137 223]\n  ...\n  [122 148 230]\n  [110 130 221]\n  [ 90  99 200]]\n\n ...\n\n [[ 60  18  84]\n  [ 60  18  84]\n  [ 58  27  92]\n  ...\n  [ 84  73 173]\n  [ 76  68 172]\n  [ 79  62 177]]\n\n [[ 57  22  82]\n  [ 57  22  82]\n  [ 62  32  96]\n  ...\n  [ 79  70 179]\n  [ 81  71 181]\n  [ 81  74 185]]\n\n [[ 57  22  82]\n  [ 57  22  82]\n  [ 62  32  96]\n  ...\n  [ 79  70 179]\n  [ 81  71 181]\n  [ 81  74 185]]]\n"
     ],
     "output_type": "stream"
    }
   ],
   "source": [
    "import cv2\n",
    "img_path = 'D:\\\\Python\\\\1st DL\\\\Day002\\\\lena.png'\n",
    "\n",
    "img = cv2.imread(img_path, cv2.IMREAD_COLOR)\n",
    "print(img)\n",
    "# 原本的img\n",
    "cv2.imshow(\"img\", img)\n",
    "\n",
    "\n",
    "img_rgb = cv2.cvtColor(img, cv2.COLOR_BGR2RGB)\n",
    "cv2.imshow(\"img_rgb\", img_rgb)\n",
    "\n",
    "# hsv\n",
    "img_hsv = cv2.cvtColor(img, cv2.COLOR_BGR2HSV)\n",
    "cv2.imshow(\"img_hsv\", img_hsv)\n",
    "\n",
    "# hsl\n",
    "img_hsl = cv2.cvtColor(img, cv2.COLOR_BGR2HLS)\n",
    "cv2.imshow(\"img_hsl\", img_hsl)\n",
    "\n",
    "# lab\n",
    "img_lab = cv2.cvtColor(img, cv2.COLOR_BGR2LAB)\n",
    "cv2.imshow(\"img_lab\", img_lab)\n",
    "\n",
    "# 按下任意鍵則關閉所有視窗\n",
    "cv2.waitKey(0)\n",
    "cv2.destroyAllWindows()\n"
   ]
  }
 ],
 "metadata": {
  "kernelspec": {
   "display_name": "Python 3",
   "language": "python",
   "name": "python3"
  },
  "language_info": {
   "codemirror_mode": {
    "name": "ipython",
    "version": 3
   },
   "file_extension": ".py",
   "mimetype": "text/x-python",
   "name": "python",
   "nbconvert_exporter": "python",
   "pygments_lexer": "ipython3",
   "version": "3.7.3"
  },
  "pycharm": {
   "stem_cell": {
    "cell_type": "raw",
    "source": [],
    "metadata": {
     "collapsed": false
    }
   }
  }
 },
 "nbformat": 4,
 "nbformat_minor": 2
}