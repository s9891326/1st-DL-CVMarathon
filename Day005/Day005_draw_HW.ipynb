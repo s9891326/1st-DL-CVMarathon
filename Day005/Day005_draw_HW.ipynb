{
 "cells": [
  {
   "cell_type": "markdown",
   "metadata": {},
   "source": [
    "# 作業\n",
    "Hint: 人物原始邊框座標 (60, 40), (420, 510)\n",
    "\n",
    "請根據 Lena 圖做以下處理\n",
    "\n",
    "對明亮度做直方圖均衡處理\n",
    "水平鏡像 + 縮放處理 (0.5 倍)\n",
    "畫出人物矩形邊框"
   ]
  },
  {
   "cell_type": "code",
   "execution_count": 17,
   "metadata": {
    "pycharm": {
     "is_executing": false
    }
   },
   "outputs": [],
   "source": [
    "import cv2\n",
    "from PIL import Image, ImageDraw, ImageFont\n",
    "import numpy as np\n",
    "\n",
    "img_path = 'D:\\\\Python\\\\1st DL\\\\Day005\\\\lena.png'\n",
    "\n",
    "img = cv2.imread(img_path, cv2.IMREAD_COLOR)"
   ]
  },
  {
   "cell_type": "markdown",
   "metadata": {},
   "source": [
    "# Hint: 矩形"
   ]
  },
  {
   "cell_type": "code",
   "execution_count": 3,
   "metadata": {
    "pycharm": {
     "is_executing": false,
     "name": "#%%\n"
    }
   },
   "outputs": [],
   "source": [
    "img_hw = img.copy()\n",
    "# 畫 矩形\n",
    "# 圖片 左上座標 右下座標 BGR顏色 線的粗細程度\n",
    "cv2.rectangle(img_hw, (60, 40), (420, 510), (0, 255, 0), -1)\n",
    "# -1 -> 填上負值代表將矩形填滿\n",
    "# opencv 畫圖是直接畫在圖片上面，不是回傳一個畫好圖的圖片\n",
    "\n",
    "cv2.imshow('img', img_hw)\n",
    "# 按下任意鍵則關閉所有視窗\n",
    "cv2.waitKey(0)\n",
    "cv2.destroyAllWindows()"
   ]
  },
  {
   "cell_type": "markdown",
   "metadata": {},
   "source": [
    "# Hint: 線"
   ]
  },
  {
   "cell_type": "code",
   "execution_count": 4,
   "metadata": {
    "pycharm": {
     "is_executing": false,
     "name": "#%%\n"
    }
   },
   "outputs": [],
   "source": [
    "img_hw = img.copy()\n",
    "# 畫 線\n",
    "# 圖片 左上座標 右下座標 BGR顏色 線的粗細程度\n",
    "cv2.line(img_hw, (60, 40), (420, 510), (0, 255, 0), 3)\n",
    "\n",
    "cv2.imshow('img', img_hw)\n",
    "# 按下任意鍵則關閉所有視窗\n",
    "cv2.waitKey(0)\n",
    "cv2.destroyAllWindows()"
   ]
  },
  {
   "cell_type": "markdown",
   "metadata": {},
   "source": [
    "# Hint: 文字"
   ]
  },
  {
   "cell_type": "code",
   "execution_count": 5,
   "metadata": {
    "pycharm": {
     "is_executing": false,
     "name": "#%%\n"
    }
   },
   "outputs": [],
   "source": [
    "# 畫 文字\n",
    "# 圖片 要加的文字 文字左下角的位置 字型 字體大小 字體顏色 字體粗細\n",
    "# 字型連結 https://codeyarns.com/2015/03/11/fonts-in-opencv/\n",
    "img_hw = img.copy()\n",
    "\n",
    "cv2.putText(img_hw, 'I LOVE YOU', (60, 40), 7, 1, (255, 0, 0), 2)\n",
    "\n",
    "cv2.imshow('img', img_hw)\n",
    "# 按下任意鍵則關閉所有視窗\n",
    "cv2.waitKey(0)\n",
    "cv2.destroyAllWindows()"
   ]
  },
  {
   "cell_type": "markdown",
   "metadata": {},
   "source": [
    "# 解法一\n",
    "根據題目，參考之前的投影片，最簡單的方式是\n",
    "\n",
    "顏色的操作 (對明亮度做直方圖均衡)\n",
    "把矩形邊框畫在圖片上之後在做位置上的變換\n",
    "得到的圖的結果正確，但你不知道新的矩型邊框座標點"
   ]
  },
  {
   "cell_type": "code",
   "execution_count": 28,
   "metadata": {
    "pycharm": {
     "is_executing": false,
     "name": "#%%\n"
    }
   },
   "outputs": [],
   "source": [
    "point1 = (60, 40)\n",
    "point2 = (420, 510)\n",
    "img_hw = img.copy()\n",
    "\n",
    "\"\"\"\n",
    "對明亮度做直方圖均衡\n",
    "\"\"\"\n",
    "\n",
    "# BGR -> hls\n",
    "img_hw = cv2.cvtColor(img_hw, cv2.COLOR_BGR2HSV)\n",
    "\n",
    "# 對明亮度做直方圖均衡\n",
    "img_hw[..., -1] = cv2.equalizeHist(img_hw[..., -1]) \n",
    "\n",
    "# 轉成bgr\n",
    "img_hw = cv2.cvtColor(img_hw, cv2.COLOR_HSV2BGR)\n",
    "\n",
    "\"\"\"\n",
    "畫人物矩形\n",
    "\"\"\"\n",
    "cv2.rectangle(img_hw, point1, point2, (0, 0, 255), 3)\n",
    "\n",
    "# 水平鏡像 + 縮放處理(0.5倍)\n",
    "img_hw = img_hw[:, ::-1, :]\n",
    "\n",
    "# 縮放處理\n",
    "img_hw = cv2.resize(img_hw, None, fx=0.5, fy=0.5, interpolation=cv2.INTER_LINEAR)\n",
    "\n",
    "cv2.imshow('img_hw', img_hw)\n",
    "# 按下任意鍵則關閉所有視窗\n",
    "cv2.waitKey(0)\n",
    "cv2.destroyAllWindows()"
   ]
  },
  {
   "cell_type": "markdown",
   "metadata": {},
   "source": [
    "# 解法二\n",
    "如果希望得知矩型邊框的位置\n",
    "\n",
    "顏色的操作 (對明亮度做直方圖均衡)\n",
    "鏡像可以透過四則運算得知\n",
    "透過建構 transformation matrix 做縮放\n",
    "把矩型邊框的點與 transformation matrix 相乘就會得到縮放後的位置\n",
    "畫圖\n",
    "得到的圖的結果正確，同時也知道新的矩型邊框座標點"
   ]
  },
  {
   "cell_type": "code",
   "execution_count": 27,
   "metadata": {
    "pycharm": {
     "is_executing": false,
     "name": "#%%\n"
    }
   },
   "outputs": [
    {
     "name": "stdout",
     "text": [
      "point1: [92, 40], point2: [452, 510]\n[[0.5 0.  0. ]\n [0.  0.5 0. ]]\n[[ 92.  40.]\n [452. 510.]]\n[[ 46  20]\n [226 255]\n [  0   0]]\nscale_point1 = (46, 20), scale_point2 = (226, 255)\n"
     ],
     "output_type": "stream"
    }
   ],
   "source": [
    "img_hw = img.copy()\n",
    "point1 = [60, 40]\n",
    "point2 = [420, 510]\n",
    "\n",
    "\"\"\"\n",
    "對明亮度做直方圖均衡\n",
    "\"\"\"\n",
    "\n",
    "# 原始 BGR 圖片轉 HSV 圖片\n",
    "img_hw = cv2.cvtColor(img_hw, cv2.COLOR_BGR2HSV)\n",
    "\n",
    "# 對明亮度做直方圖均衡 -> 對 HSV 的 V 做直方圖均衡\n",
    "img_hw[..., -1] = cv2.equalizeHist(img_hw[..., -1])\n",
    "\n",
    "# 將圖片轉回 BGR\n",
    "img_hw = cv2.cvtColor(img_hw, cv2.COLOR_HSV2BGR)\n",
    "\n",
    "\"\"\"\n",
    "水平鏡像\n",
    "\"\"\"\n",
    "h, w = img_hw.shape[:2]\n",
    "\n",
    "# 圖片鏡像\n",
    "img_hw = img_hw[:, ::-1, :]\n",
    "\n",
    "# 透過四則運算計算鏡像後位置\n",
    "# 確保點的位置一樣是左上跟右下，所以交換鏡像後的 x 座標 (y 座標做水平鏡像後位置不變)\n",
    "point1[0] = w - point1[0]\n",
    "point2[0] = w - point2[0]\n",
    "point1[0], point2[0] = point2[0], point1[0]\n",
    "print(\"point1: {}, point2: {}\".format(point1, point2))\n",
    "\n",
    "\"\"\"\n",
    "縮放處理(0.5倍)\n",
    "\"\"\"\n",
    "fx = 0.5\n",
    "fy = 0.5\n",
    "resize_col = int(img_hw.shape[1] * fx)\n",
    "resize_row = int(img_hw.shape[0] * fy)\n",
    "\n",
    "# 建構scale matrix\n",
    "M_scale = np.array([[fx, 0, 0],\n",
    "                    [0, fy, 0]], dtype=np.float32)\n",
    "print(M_scale)\n",
    "img_hw = cv2.warpAffine(img_hw, M_scale, (resize_col, resize_row))\n",
    "\n",
    "# 把左上跟右下轉為矩陣型式\n",
    "bbox = np.array((point1, point2), dtype=np.float32)\n",
    "print(bbox)\n",
    "\n",
    "point_result = np.dot(M_scale.T, bbox)\n",
    "point_result = point_result.astype(\"uint8\")\n",
    "print(point_result)\n",
    "scale_point1 = tuple(point_result[0])\n",
    "scale_point2 = tuple(point_result[1])\n",
    "print(\"scale_point1 = {}, scale_point2 = {}\".format(scale_point1, scale_point2))\n",
    "\n",
    "cv2.rectangle(img_hw, scale_point1, scale_point2, (0, 0, 255), 3)\n",
    "# 按下esc\n",
    "while True:\n",
    "    cv2.imshow('image', img_hw)\n",
    "    k = cv2.waitKey(0)\n",
    "    if k == 27:\n",
    "        cv2.destroyAllWindows()\n",
    "        break"
   ]
  },
  {
   "cell_type": "markdown",
   "metadata": {},
   "source": [
    "# 解法三 (optional)\n",
    "把矩型邊框用遮罩的方式呈現，使用同樣處理圖片的方式處理遮罩 最後再找遮罩的左上跟右下的點的位置\n",
    "\n",
    "這邊會用到許多沒提過的東西，所以當作 optional"
   ]
  },
  {
   "cell_type": "code",
   "execution_count": 47,
   "metadata": {
    "pycharm": {
     "is_executing": false
    }
   },
   "outputs": [
    {
     "name": "stdout",
     "text": [
      "h = 512, w = 512\nbefore point1: [60, 40], point2: [420, 510]\nafter point1: [92, 40], point2: [452, 510]\n"
     ],
     "output_type": "stream"
    }
   ],
   "source": [
    "img_hw = img.copy()\n",
    "\n",
    "point1 = [60, 40]\n",
    "point2 = [420, 510]\n",
    "\n",
    "#建立圖形遮罩\n",
    "mask = np.zeros(img_hw.shape[0:2], dtype=\"uint8\")\n",
    "\n",
    "\"\"\"\n",
    "對明亮度做直方圖均衡\n",
    "\"\"\"\n",
    "# 原始 BGR 圖片轉 HSV 圖片\n",
    "img_hw = cv2.cvtColor(img_hw, cv2.COLOR_BGR2HSV)\n",
    "\n",
    "# 對明亮度做直方圖均衡 -> 對 HSV 的 V 做直方圖均衡\n",
    "img_hw[..., -1] = cv2.equalizeHist(img_hw[..., -1])\n",
    "\n",
    "# 將圖片轉回 BGR\n",
    "img_hw = cv2.cvtColor(img_hw, cv2.COLOR_HSV2BGR)\n",
    "\n",
    "\"\"\"\n",
    "水平鏡像\n",
    "\"\"\"\n",
    "\n",
    "h, w = img_hw.shape[:2]\n",
    "print(\"h = {}, w = {}\".format(h, w))\n",
    "# 圖片鏡像\n",
    "img_hw = img_hw[:, ::-1, :]\n",
    "\n",
    "# 透過四則運算計算鏡像後位置\n",
    "# 確保點的位置一樣是左上跟右下，所以交換鏡像後的 x 座標 (y 座標做水平鏡像後位置不變)\n",
    "print(\"before point1: {}, point2: {}\".format(point1, point2))\n",
    "point1[0] = w - point1[0]\n",
    "point2[0] = w - point2[0]\n",
    "point1[0], point2[0] = point2[0], point1[0]\n",
    "print(\"after point1: {}, point2: {}\".format(point1, point2))\n",
    "mask[point1[0]:point2[0], point1[0]:point2[0]] = 255\n",
    "\n",
    "# mask[92:452, 92:452] = 255\n",
    "\n",
    "img_hw = cv2.bitwise_and(img_hw, img_hw, mask = mask)\n",
    "\n",
    "\"\"\"\n",
    "進行縮放處理\n",
    "\"\"\"\n",
    "img_hw = cv2.resize(img_hw, None, fx=0.5, fy=0.5, interpolation=cv2.INTER_LINEAR)\n",
    "\n",
    "# 按下esc\n",
    "cv2.imshow('img_hw', img_hw)\n",
    "# 按下任意鍵則關閉所有視窗\n",
    "cv2.waitKey(0)\n",
    "cv2.destroyAllWindows()\n",
    "# while True:\n",
    "#     cv2.imshow('img_hw', img_hw)\n",
    "#     k = cv2.waitKey(0)\n",
    "#     if k == 27:\n",
    "#         cv2.destroyAllWindows()\n",
    "#         break"
   ]
  }
 ],
 "metadata": {
  "kernelspec": {
   "display_name": "Python 3",
   "language": "python",
   "name": "python3"
  },
  "language_info": {
   "codemirror_mode": {
    "name": "ipython",
    "version": 3
   },
   "file_extension": ".py",
   "mimetype": "text/x-python",
   "name": "python",
   "nbconvert_exporter": "python",
   "pygments_lexer": "ipython3",
   "version": "3.7.3"
  },
  "pycharm": {
   "stem_cell": {
    "cell_type": "raw",
    "source": [],
    "metadata": {
     "collapsed": false
    }
   }
  }
 },
 "nbformat": 4,
 "nbformat_minor": 2
}