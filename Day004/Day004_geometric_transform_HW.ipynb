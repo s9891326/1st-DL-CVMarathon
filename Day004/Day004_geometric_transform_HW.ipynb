{
 "cells": [
  {
   "cell_type": "code",
   "execution_count": 26,
   "outputs": [],
   "source": [
    "import time\n",
    "import cv2\n",
    "import numpy as np\n",
    "\n",
    "img_path = 'D:\\\\Python\\\\1st DL\\\\Day004\\\\lena.png'\n",
    "\n",
    "img = cv2.imread(img_path, cv2.IMREAD_COLOR)"
   ],
   "metadata": {
    "collapsed": false,
    "pycharm": {
     "name": "#%%\n",
     "is_executing": false
    }
   }
  },
  {
   "cell_type": "code",
   "execution_count": 28,
   "outputs": [],
   "source": [
    "img_horizontal_flip = img[::-1, :, :]\n",
    "img_vertical_flip = img[:, ::-1, :]\n",
    "img_vertival_horizontal_flip = img_vertical_flip[::-1, :, :]\n",
    "\n",
    "img_change = np.hstack((np.vstack((img, img_horizontal_flip)), np.vstack((img_vertical_flip, img_vertival_horizontal_flip))))\n",
    "cv2.imshow('img_change', img_horizontal_flip)\n",
    "# 按下任意鍵則關閉所有視窗\n",
    "cv2.waitKey(0)\n",
    "cv2.destroyAllWindows()"
   ],
   "metadata": {
    "collapsed": false,
    "pycharm": {
     "name": "#%%\n",
     "is_executing": false
    }
   }
  },
  {
   "cell_type": "code",
   "execution_count": 3,
   "outputs": [
    {
     "name": "stdout",
     "text": [
      "(512, 512, 3)\n(512, 512, 3)\n"
     ],
     "output_type": "stream"
    }
   ],
   "source": [
    "# img_scale_linear = cv2.resize(img, (512, 512), interpolation=cv2.INTER_LINEAR)\n",
    "# img_scale_area = cv2.resize(img, (512, 512), interpolation=cv2.INTER_AREA)\n",
    "# \n",
    "# print(img_scale_linear.shape)\n",
    "# print(img_scale_area.shape)\n",
    "# \n",
    "# img_scale_change = np.hstack((img_scale_linear, img_scale_area))\n",
    "# cv2.imshow('img_scale_change', img_scale_change)\n",
    "# # 按下任意鍵則關閉所有視窗\n",
    "# cv2.waitKey(0)\n",
    "# cv2.destroyAllWindows()"
   ],
   "metadata": {
    "collapsed": false,
    "pycharm": {
     "name": "#%%\n",
     "is_executing": false
    }
   }
  },
  {
   "cell_type": "code",
   "execution_count": 21,
   "outputs": [
    {
     "name": "stdout",
     "text": [
      "inter_nearest zoom cost 0.0\ninter_linear zoom cost 0.0009911060333251953\ninter_cubic zoom cost 0.0\nshape =  (510, 510)\n"
     ],
     "output_type": "stream"
    }
   ],
   "source": [
    "# 將圖片縮小成原本的 20%\n",
    "img_test = cv2.resize(img, None, fx=0.2, fy=0.2)\n",
    "\n",
    "# 將圖片放大為\"小圖片\"的 8 倍大 = 原圖的 1.6 倍大\n",
    "fx, fy = 5, 5\n",
    "\n",
    "# 鄰近差值 scale + 計算花費時間\n",
    "start_time = time.time()\n",
    "img_nearest_scale = cv2.resize(img_test, None, fx=fx, fy=fy, interpolation=cv2.INTER_NEAREST)\n",
    "print(\"inter_nearest zoom cost {}\".format(time.time() - start_time))\n",
    "\n",
    "# 雙線性插補 scale + 計算花費時間\n",
    "start_time = time.time()\n",
    "img_linear_scale  = cv2.resize(img_test, None, fx=fx, fy=fy, interpolation=cv2.INTER_LINEAR)\n",
    "print(\"inter_linear zoom cost {}\".format(time.time() - start_time))\n",
    "\n",
    "# 雙立方差補 scale + 計算花費時間\n",
    "start_time = time.time()\n",
    "img_cubic_scale  = cv2.resize(img_test, None, fx=fx, fy=fy, interpolation=cv2.INTER_CUBIC)\n",
    "print(\"inter_cubic zoom cost {}\".format(time.time() - start_time))\n",
    "\n",
    "\n",
    "\n",
    "print(\"shape = \", img_nearest_scale.shape[:2])\n",
    "orig_img = cv2.resize(img, img_nearest_scale.shape[:2])\n",
    "img_zoom = np.hstack((orig_img, img_nearest_scale, img_linear_scale, img_cubic_scale ))\n",
    "cv2.imshow('img_zoom', img_zoom)\n",
    "# 按下任意鍵則關閉所有視窗\n",
    "cv2.waitKey(0)\n",
    "cv2.destroyAllWindows()\n"
   ],
   "metadata": {
    "collapsed": false,
    "pycharm": {
     "name": "#%%\n",
     "is_executing": false
    }
   }
  },
  {
   "cell_type": "code",
   "execution_count": 25,
   "outputs": [],
   "source": [
    "# 設定 translation transformation matrix\n",
    "# x 平移 100 pixel; y 平移 50 pixel\n",
    "# x'\t=\tax+cy+e;\ty'\t=\tbx+dy+f\n",
    "M = np.array([[1, 0, 100],\n",
    "              [0, 1, 50]], dtype=np.float32)\n",
    "shift_img = cv2.warpAffine(img, M, (img.shape[1], img.shape[0]))\n",
    "\n",
    "img_shift = np.hstack((img, shift_img))\n",
    "cv2.imshow('img_shift', img_shift)\n",
    "# 按下任意鍵則關閉所有視窗\n",
    "cv2.waitKey(0)\n",
    "cv2.destroyAllWindows()"
   ],
   "metadata": {
    "collapsed": false,
    "pycharm": {
     "name": "#%%\n",
     "is_executing": false
    }
   }
  }
 ],
 "metadata": {
  "kernelspec": {
   "display_name": "Python 3",
   "language": "python",
   "name": "python3"
  },
  "language_info": {
   "codemirror_mode": {
    "name": "ipython",
    "version": 3
   },
   "file_extension": ".py",
   "mimetype": "text/x-python",
   "name": "python",
   "nbconvert_exporter": "python",
   "pygments_lexer": "ipython3",
   "version": "3.7.3"
  },
  "pycharm": {
   "stem_cell": {
    "cell_type": "raw",
    "source": [],
    "metadata": {
     "collapsed": false
    }
   }
  }
 },
 "nbformat": 4,
 "nbformat_minor": 2
}