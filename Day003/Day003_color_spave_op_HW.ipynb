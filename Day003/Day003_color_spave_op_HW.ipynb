{
 "cells": [
  {
   "cell_type": "code",
   "execution_count": 6,
   "outputs": [],
   "source": [
    "import cv2\n",
    "import numpy as np\n",
    "\n",
    "img_path = 'D:\\\\Python\\\\1st DL\\\\Day002\\\\lena.png'\n",
    "\n",
    "# 這裡設置 Saturation 的兩成\n",
    "change_percentage = 0.2\n",
    "img = cv2.imread(img_path, cv2.IMREAD_COLOR)\n",
    "        \n",
    "# 轉換 hsv 往下調2成\n",
    "# h -> 色調  s -> 飽和度  v -> 亮度\n",
    "img_hsv_down_saturation = cv2.cvtColor(img, cv2.COLOR_BGR2HSV)\n",
    "img_hsv_down_light = cv2.cvtColor(img, cv2.COLOR_BGR2HSV)\n",
    "\n",
    "# 操作飽和度時需要轉換成百分比\n",
    "img_hsv_down_saturation = img_hsv_down_saturation.astype(\"float32\")\n",
    "img_hsv_down_light = img_hsv_down_light.astype(\"float32\")\n",
    "\n",
    "# 轉成小數點並調降兩成飽和度\n",
    "# 除以255後範圍變成\n",
    "img_hsv_down_saturation[..., -1] = img_hsv_down_saturation[..., -1]/255 - change_percentage\n",
    "img_hsv_down_light[..., 1] = img_hsv_down_light[..., 1]/255 - change_percentage\n",
    "\n",
    "# 確保所有飽和度 channel 都介於0~1 之間\n",
    "img_hsv_down_saturation[img_hsv_down_saturation[..., -1] < 0] = 0\n",
    "img_hsv_down_light[img_hsv_down_light[..., 1] < 0] = 0\n",
    "\n",
    "# 4捨5入，轉回0~255之間\n",
    "img_hsv_down_saturation[..., -1] = np.around(img_hsv_down_saturation[..., -1]*255)\n",
    "img_hsv_down_light[..., 1] = np.around(img_hsv_down_light[..., 1]*255)\n",
    "\n",
    "# uint8\n",
    "img_hsv_down_saturation = img_hsv_down_saturation.astype(\"uint8\")\n",
    "img_hsv_down_light = img_hsv_down_light.astype(\"uint8\")\n",
    "\n",
    "\n",
    "# 轉換 hsv 往上調2成\n",
    "# h -> 色調 s -> 飽和度 v -> 亮度\n",
    "img_hsv_up_saturation = cv2.cvtColor(img, cv2.COLOR_BGR2HSV)\n",
    "img_hsv_up_light = cv2.cvtColor(img, cv2.COLOR_BGR2HSV)\n",
    "\n",
    "# 操作飽和度時需要轉換成百分比\n",
    "img_hsv_up_saturation = img_hsv_up_saturation.astype(\"float32\")\n",
    "img_hsv_up_light = img_hsv_up_light.astype(\"float32\")\n",
    "\n",
    "# 轉成小數點並調降兩成飽和度\n",
    "# 除以255後範圍變成\n",
    "img_hsv_up_saturation[..., -1] = img_hsv_up_saturation[..., -1]/255 + change_percentage\n",
    "img_hsv_up_light[..., 1] = img_hsv_up_light[..., 1]/255 + change_percentage\n",
    "\n",
    "# 確保所有飽和度 channel 都介於0~1 之間\n",
    "img_hsv_up_saturation[img_hsv_up_saturation[..., -1] > 1] = 1\n",
    "img_hsv_up_light[img_hsv_up_light[..., 1] > 1] = 1\n",
    "\n",
    "# 4捨5入，轉回0~255之間\n",
    "img_hsv_up_saturation[..., -1] = np.around(img_hsv_up_saturation[..., -1]*255)\n",
    "img_hsv_up_light[..., 1] = np.around(img_hsv_up_light[..., 1]*255)\n",
    "\n",
    "# uint8\n",
    "img_hsv_up_saturation = img_hsv_up_saturation.astype(\"uint8\")\n",
    "img_hsv_up_light = img_hsv_up_light.astype(\"uint8\")\n",
    "\n",
    "\n",
    "# BGR\n",
    "img_hsv_down_saturation = cv2.cvtColor(img_hsv_down_saturation, cv2.COLOR_HSV2BGR)\n",
    "img_hsv_up_light = cv2.cvtColor(img_hsv_up_light, cv2.COLOR_HSV2BGR)\n",
    "\n",
    "img_saturation_change = np.hstack((img, img_hsv_down_saturation, img_hsv_up_saturation))\n",
    "img_light_change = np.hstack((img, img_hsv_down_light, img_hsv_up_light))\n",
    "\n",
    "img_change = np.vstack((img_saturation_change, img_light_change))\n",
    "cv2.imshow(\"img_change\", img_change)\n",
    "\n",
    "# 按下任意鍵則關閉所有視窗\n",
    "cv2.waitKey(0)\n",
    "cv2.destroyAllWindows()"
   ],
   "metadata": {
    "collapsed": false,
    "pycharm": {
     "name": "#%%\n",
     "is_executing": false
    }
   }
  },
  {
   "cell_type": "code",
   "execution_count": 7,
   "outputs": [],
   "source": [
    "# 轉為灰階圖片\n",
    "img_gray = cv2.cvtColor(img, cv2.COLOR_BGR2GRAY)\n",
    "\n",
    "# 灰階圖片直方圖均衡\n",
    "img_gray_equal = cv2.equalizeHist(img_gray)\n",
    "\n",
    "img_gray_change = np.hstack((img_gray, img_gray_equal))\n",
    "\n",
    "cv2.imshow(\"img_gray_change\", img_gray_change)\n",
    "# 按下任意鍵則關閉所有視窗\n",
    "cv2.waitKey(0)\n",
    "cv2.destroyAllWindows()"
   ],
   "metadata": {
    "collapsed": false,
    "pycharm": {
     "name": "#%%\n",
     "is_executing": false
    }
   }
  },
  {
   "cell_type": "code",
   "execution_count": 8,
   "outputs": [],
   "source": [
    "# 對 RGB 圖直接處理\n",
    "\n",
    "def hisEqulColor(image):\n",
    "    ycrcb = cv2.cvtColor(image, cv2.COLOR_BGR2YCR_CB)\n",
    "    channels = cv2.split(ycrcb)\n",
    "    cv2.equalizeHist(channels[0], channels[1])\n",
    "    cv2.merge(channels, ycrcb)\n",
    "    cv2.cvtColor(ycrcb, cv2.COLOR_YCR_CB2BGR, image)\n",
    "    return image\n",
    "\n",
    "image = cv2.imread(img_path, cv2.IMREAD_COLOR)\n",
    "img_rgb_equal = hisEqulColor(image)\n",
    "img_rgb_change = np.hstack((img, img_rgb_equal))\n",
    "cv2.imshow(\"img_rgb_change\", img_rgb_change)\n",
    "# 按下任意鍵則關閉所有視窗\n",
    "cv2.waitKey(0)\n",
    "cv2.destroyAllWindows()"
   ],
   "metadata": {
    "collapsed": false,
    "pycharm": {
     "name": "#%%\n",
     "is_executing": false
    }
   }
  },
  {
   "cell_type": "code",
   "execution_count": 9,
   "outputs": [],
   "source": [
    "def convertScale(image, alpha, beta):\n",
    "    for b in range(image.shape[0]):\n",
    "        for g in range(image.shape[1]):\n",
    "            for r in range(image.shape[2]):\n",
    "                # 透過np.clib 限制範圍在0~255\n",
    "                image[b,g,r] = np.clip(alpha * image[b,g,r] + beta, 0, 255)\n",
    "    return image\n",
    "\n",
    "image = cv2.imread(img_path, cv2.IMREAD_COLOR)\n",
    "img_add_contrast = convertScale(cv2.imread(img_path, cv2.IMREAD_COLOR) , 2.0, 0)\n",
    "img_add_contrast_cv = cv2.convertScaleAbs(image, alpha=2.0, beta=0)\n",
    "img_add_lightness_cv = cv2.convertScaleAbs(image, alpha=1.0, beta=50)\n",
    "\n",
    "img_change = np.hstack((image, img_add_contrast, img_add_contrast_cv, img_add_lightness_cv))\n",
    "# img_change = np.hstack((image, img_add_contrast_cv, img_add_lightness_cv))\n",
    "\n",
    "cv2.imshow(\"img_change\", img_change)\n",
    "# 按下任意鍵則關閉所有視窗\n",
    "cv2.waitKey(0)\n",
    "cv2.destroyAllWindows()"
   ],
   "metadata": {
    "collapsed": false,
    "pycharm": {
     "name": "#%%\n",
     "is_executing": false
    }
   }
  },
  {
   "cell_type": "code",
   "execution_count": 9,
   "outputs": [
    {
     "name": "stdout",
     "text": [
      "[[[255 255 255]\n  [255 255 255]\n  [255 255 255]\n  ...\n  [255 255 255]\n  [250 255 255]\n  [210 228 255]]\n\n [[255 255 255]\n  [255 255 255]\n  [255 255 255]\n  ...\n  [255 255 255]\n  [250 255 255]\n  [210 228 255]]\n\n [[255 255 255]\n  [255 255 255]\n  [255 255 255]\n  ...\n  [255 255 255]\n  [250 255 255]\n  [210 228 255]]\n\n ...\n\n [[150  66 198]\n  [150  66 198]\n  [146  84 214]\n  ...\n  [198 176 255]\n  [182 166 255]\n  [188 154 255]]\n\n [[144  74 194]\n  [144  74 194]\n  [154  94 222]\n  ...\n  [188 170 255]\n  [192 172 255]\n  [192 178 255]]\n\n [[144  74 194]\n  [144  74 194]\n  [154  94 222]\n  ...\n  [188 170 255]\n  [192 172 255]\n  [192 178 255]]]\n[[[125 137 226]\n  [125 137 226]\n  [133 137 223]\n  ...\n  [255 255 255]\n  [250 255 255]\n  [210 228 255]]\n\n [[125 137 226]\n  [125 137 226]\n  [133 137 223]\n  ...\n  [255 255 255]\n  [250 255 255]\n  [210 228 255]]\n\n [[125 137 226]\n  [125 137 226]\n  [133 137 223]\n  ...\n  [255 255 255]\n  [250 255 255]\n  [210 228 255]]\n\n ...\n\n [[ 60  18  84]\n  [ 60  18  84]\n  [ 58  27  92]\n  ...\n  [198 176 255]\n  [182 166 255]\n  [188 154 255]]\n\n [[ 57  22  82]\n  [ 57  22  82]\n  [ 62  32  96]\n  ...\n  [188 170 255]\n  [192 172 255]\n  [192 178 255]]\n\n [[ 57  22  82]\n  [ 57  22  82]\n  [ 62  32  96]\n  ...\n  [188 170 255]\n  [192 172 255]\n  [192 178 255]]]\n"
     ],
     "output_type": "stream"
    }
   ],
   "source": [
    "def contrast_img(image, alpha, beta):  # 亮度就是每个像素所有通道都加上b\n",
    "    rows, cols, channels = image.shape\n",
    "\n",
    "    # 新建全零(黑色)图片数组:np.zeros(img1.shape, dtype=uint8)\n",
    "    blank = np.zeros([rows, cols, channels], image.dtype)\n",
    "    dst = cv2.addWeighted(image, alpha, blank, 1-alpha, beta)\n",
    "    print(dst)\n",
    "    change = np.hstack((image, dst))\n",
    "    print(change)\n",
    "    cv2.imshow('change', change)\n",
    "    # 按下任意鍵則關閉所有視窗\n",
    "    cv2.waitKey(0)\n",
    "    cv2.destroyAllWindows()\n",
    "\n",
    "contrast_img(img, 2, 30)"
   ],
   "metadata": {
    "collapsed": false,
    "pycharm": {
     "name": "#%%\n",
     "is_executing": false
    }
   }
  },
  {
   "cell_type": "code",
   "execution_count": 4,
   "outputs": [],
   "source": [
    "img_bgr = img\n",
    "\n",
    "for i in range(3):\n",
    "    img_bgr[..., i] = cv2.equalizeHist(img_bgr[..., i])\n",
    "    \n",
    "cv2.imshow('change', img_bgr)\n",
    "# 按下任意鍵則關閉所有視窗\n",
    "cv2.waitKey(0)\n",
    "cv2.destroyAllWindows()\n"
   ],
   "metadata": {
    "collapsed": false,
    "pycharm": {
     "name": "#%%\n",
     "is_executing": false
    }
   }
  }
 ],
 "metadata": {
  "kernelspec": {
   "display_name": "Python 3",
   "language": "python",
   "name": "python3"
  },
  "language_info": {
   "codemirror_mode": {
    "name": "ipython",
    "version": 3
   },
   "file_extension": ".py",
   "mimetype": "text/x-python",
   "name": "python",
   "nbconvert_exporter": "python",
   "pygments_lexer": "ipython3",
   "version": "3.7.3"
  },
  "pycharm": {
   "stem_cell": {
    "cell_type": "raw",
    "source": [],
    "metadata": {
     "collapsed": false
    }
   }
  }
 },
 "nbformat": 4,
 "nbformat_minor": 2
}