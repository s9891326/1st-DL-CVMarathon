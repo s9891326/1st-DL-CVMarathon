{
 "cells": [
  {
   "cell_type": "markdown",
   "metadata": {
    "colab_type": "text",
    "id": "0BBfdBwkyTiQ"
   },
   "source": [
    "## 『作業內容』\n",
    "####   依照指示，透過調整Padding、Strides參數控制輸出Feature map大小\n"
   ]
  },
  {
   "cell_type": "markdown",
   "metadata": {
    "colab_type": "text",
    "id": "7CtbcEb4yTiT"
   },
   "source": [
    "## 『目標』\n",
    "####   了解輸出feature map尺寸變化原理"
   ]
  },
  {
   "cell_type": "code",
   "execution_count": 8,
   "metadata": {
    "colab": {},
    "colab_type": "code",
    "id": "2fhi3otQyTiU",
    "pycharm": {
     "is_executing": false
    }
   },
   "outputs": [
    {
     "name": "stdout",
     "text": [
      "Same padding、strides=(1,1)\n_________________________________________________________________\nLayer (type)                 Output Shape              Param #   \n=================================================================\ninput_11 (InputLayer)        (None, 13, 13, 1)         0         \n_________________________________________________________________\nconv2d_8 (Conv2D)            (None, 13, 13, 32)        1184      \n=================================================================\nTotal params: 1,184\nTrainable params: 1,184\nNon-trainable params: 0\n_________________________________________________________________\n\n\n\nSame padding、strides=(2,2)\n_________________________________________________________________\nLayer (type)                 Output Shape              Param #   \n=================================================================\ninput_12 (InputLayer)        (None, 13, 13, 1)         0         \n_________________________________________________________________\nconv2d_9 (Conv2D)            (None, 7, 7, 32)          1184      \n=================================================================\nTotal params: 1,184\nTrainable params: 1,184\nNon-trainable params: 0\n_________________________________________________________________\n\n\n\nValid padding、strides=(1,1)\n_________________________________________________________________\nLayer (type)                 Output Shape              Param #   \n=================================================================\ninput_13 (InputLayer)        (None, 13, 13, 1)         0         \n_________________________________________________________________\nconv2d_10 (Conv2D)           (None, 8, 8, 32)          1184      \n=================================================================\nTotal params: 1,184\nTrainable params: 1,184\nNon-trainable params: 0\n_________________________________________________________________\n\n\n\nValid padding、strides=(2,2)\n_________________________________________________________________\nLayer (type)                 Output Shape              Param #   \n=================================================================\ninput_14 (InputLayer)        (None, 13, 13, 1)         0         \n_________________________________________________________________\nconv2d_11 (Conv2D)           (None, 4, 4, 32)          1184      \n=================================================================\nTotal params: 1,184\nTrainable params: 1,184\nNon-trainable params: 0\n_________________________________________________________________\n"
     ],
     "output_type": "stream"
    }
   ],
   "source": [
    "from keras.models import Sequential\n",
    "from keras.layers import Convolution2D\n",
    "from keras.layers import Input, Dense\n",
    "from keras.models import Model\n",
    "\n",
    "\n",
    "##kernel size=(6,6)\n",
    "##kernel數量：32\n",
    "kernel_size = (6, 6)\n",
    "filters = 32\n",
    "print(\"Same padding、strides=(1,1)\")\n",
    "## Same padding、strides=(1,1)\n",
    "strides = (1,1)\n",
    "classifier=Sequential()\n",
    "inputs = Input(shape=(13,13,1))\n",
    "x=Convolution2D(filters=filters, kernel_size=kernel_size, padding='same', strides=strides)(inputs)\n",
    "model = Model(inputs=inputs, outputs=x)\n",
    "model.summary()\n",
    "\n",
    "print(\"\\n\\n\\nSame padding、strides=(2,2)\")\n",
    "# Same padding、strides=(2,2)\n",
    "strides = (2,2)\n",
    "classifier=Sequential()\n",
    "inputs = Input(shape=(13,13,1))\n",
    "x=Convolution2D(filters=filters, kernel_size=kernel_size, padding='same', strides=strides)(inputs)\n",
    "model = Model(inputs=inputs, outputs=x)\n",
    "model.summary()\n",
    "\n",
    "print(\"\\n\\n\\nValid padding、strides=(1,1)\")\n",
    "## Valid padding、strides=(1,1)\n",
    "strides = (1,1)\n",
    "classifier=Sequential()\n",
    "inputs = Input(shape=(13,13,1))\n",
    "x=Convolution2D(filters=filters, kernel_size=kernel_size, padding='valid', strides=strides)(inputs)\n",
    "model = Model(inputs=inputs, outputs=x)\n",
    "model.summary()\n",
    "\n",
    "print(\"\\n\\n\\nValid padding、strides=(2,2)\")\n",
    "## Valid padding、strides=(2,2)\n",
    "strides = (2,2)\n",
    "classifier=Sequential()\n",
    "inputs = Input(shape=(13,13,1))\n",
    "x=Convolution2D(filters=filters, kernel_size=kernel_size, padding='valid', strides=strides)(inputs)\n",
    "model = Model(inputs=inputs, outputs=x)\n",
    "model.summary()\n"
   ]
  }
 ],
 "metadata": {
  "colab": {
   "name": "Strides and Padding.ipynb",
   "provenance": []
  },
  "kernelspec": {
   "display_name": "Python 3",
   "language": "python",
   "name": "python3"
  },
  "language_info": {
   "codemirror_mode": {
    "name": "ipython",
    "version": 3
   },
   "file_extension": ".py",
   "mimetype": "text/x-python",
   "name": "python",
   "nbconvert_exporter": "python",
   "pygments_lexer": "ipython3",
   "version": "3.6.7"
  },
  "pycharm": {
   "stem_cell": {
    "cell_type": "raw",
    "source": [],
    "metadata": {
     "collapsed": false
    }
   }
  }
 },
 "nbformat": 4,
 "nbformat_minor": 1
}